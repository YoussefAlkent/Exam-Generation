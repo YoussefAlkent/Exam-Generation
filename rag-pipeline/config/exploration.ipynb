{
 "cells": [
  {
   "cell_type": "markdown",
   "metadata": {},
   "source": [
    "# Exploration Notebook\n",
    "\n",
    "This notebook is intended for exploratory data analysis and experimentation with the Retrieval-Augmented Generation (RAG) pipeline. It will cover the following aspects:\n",
    "\n",
    "1. **PDF Ingestion**: Loading and parsing PDF files.\n",
    "2. **Text Vectorization**: Converting text into vector representations.\n",
    "3. **Chunking**: Splitting text into manageable chunks.\n",
    "4. **Embedding Generation**: Creating embeddings for the text.\n",
    "5. **Retrieval**: Querying the vector store for relevant documents.\n",
    "6. **Question Generation**: Generating questions based on retrieved content.\n",
    "\n",
    "## Setup\n",
    "\n",
    "Before running the code, ensure that all necessary libraries are installed and the environment is properly configured."
   ]
  },
  {
   "cell_type": "code",
   "execution_count": null,
   "metadata": {
    "collapsed": true
   },
   "outputs": [],
   "source": [
    "# Import necessary libraries\n",
    "import os\n",
    "import pandas as pd\n",
    "from src.ingestion.ingestion import IngestionPipeline\n",
    "from src.chunking.chunker import Chunker\n",
    "from src.embedding.embedder import Embedder\n",
    "from src.retrieval.retriever import Retriever\n",
    "from src.generation.generator import ExamGenerator\n",
    "\n",
    "# Initialize the ingestion pipeline\n",
    "ingestion_pipeline = IngestionPipeline()\n",
    "\n",
    "# Define the path to the PDF files\n",
    "pdf_directory = os.path.join('data', 'raw')\n",
    "\n",
    "# Ingest PDFs\n",
    "ingestion_pipeline.ingest_pdfs(pdf_directory)\n",
    "\n",
    "# Further analysis and experimentation can be added below."
   ]
  }
 ],
 "metadata": {
  "kernelspec": {
   "display_name": "Python 3",
   "language": "python",
   "name": "python3"
  },
  "language_info": {
   "codemirror_mode": {
    "name": "ipython",
    "version": 3
   },
   "file_extension": ".py",
   "mimetype": "text/x-python",
   "name": "python",
   "nbconvert_exporter": "python",
   "pygments_lexer": "ipython3",
   "version": "3.8.5"
  }
 },
 "nbformat": 4,
 "nbformat_minor": 4
}